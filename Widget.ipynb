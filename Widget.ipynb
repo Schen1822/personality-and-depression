{
 "cells": [
  {
   "cell_type": "code",
   "execution_count": 32,
   "metadata": {},
   "outputs": [],
   "source": [
    "import pandas as pd \n",
    "import numpy as np\n",
    "from sklearn.model_selection import train_test_split\n",
    "from sklearn.linear_model import LinearRegression\n",
    "import ipywidgets as ipw\n",
    "from ipywidgets import interact, interactive, fixed, interact_manual, HBox, VBox, Label\n",
    "import numpy as np\n",
    "from ipywidgets.embed import embed_minimal_html"
   ]
  },
  {
   "cell_type": "code",
   "execution_count": 33,
   "metadata": {},
   "outputs": [],
   "source": [
    "df = pd.read_csv(\"personality_and_depression.csv\")"
   ]
  },
  {
   "cell_type": "code",
   "execution_count": 34,
   "metadata": {},
   "outputs": [],
   "source": [
    "features = df.columns[1:len(df.columns) - 1]\n",
    "X = pd.DataFrame(df[features])\n",
    "y = pd.DataFrame(df.Total)"
   ]
  },
  {
   "cell_type": "code",
   "execution_count": 35,
   "metadata": {},
   "outputs": [],
   "source": [
    "X_train, X_test, y_train, y_test = train_test_split(X, y, test_size = 0.2)"
   ]
  },
  {
   "cell_type": "code",
   "execution_count": 36,
   "metadata": {},
   "outputs": [],
   "source": [
    "lr = LinearRegression()\n",
    "lr.fit(X_train, y_train)\n",
    "y_predlr = lr.predict(X_test)"
   ]
  },
  {
   "cell_type": "code",
   "execution_count": 37,
   "metadata": {},
   "outputs": [
    {
     "data": {
      "application/vnd.jupyter.widget-view+json": {
       "model_id": "a51a88b5f89a4d658679a804d48e8b38",
       "version_major": 2,
       "version_minor": 0
      },
      "text/plain": [
       "VBox(children=(HBox(children=(Label(value='Extraverted, Enthusiastic'), IntSlider(value=0, max=7))), HBox(chil…"
      ]
     },
     "metadata": {},
     "output_type": "display_data"
    },
    {
     "data": {
      "application/vnd.jupyter.widget-view+json": {
       "model_id": "c937969152194920a7abda36e87aed39",
       "version_major": 2,
       "version_minor": 0
      },
      "text/plain": [
       "Output()"
      ]
     },
     "metadata": {},
     "output_type": "display_data"
    }
   ],
   "source": [
    "s1 = ipw.IntSlider(min = 0, max = 7)\n",
    "s2 = ipw.IntSlider(min = 0, max = 7)\n",
    "s3 = ipw.IntSlider(min = 0, max = 7)\n",
    "s4 = ipw.IntSlider(min = 0, max = 7)\n",
    "s5 = ipw.IntSlider(min = 0, max = 7)\n",
    "s6 = ipw.IntSlider(min = 0, max = 7)\n",
    "s7 = ipw.IntSlider(min = 0, max = 7)\n",
    "s8 = ipw.IntSlider(min = 0, max = 7)\n",
    "s9 = ipw.IntSlider(min = 0, max = 7)\n",
    "s10 = ipw.IntSlider(min = 0, max = 7)\n",
    "\n",
    "q1 = HBox([Label('Extraverted, Enthusiastic'), s1])\n",
    "q2 = HBox([Label('Critical, quarrelsome'), s2])\n",
    "q3 = HBox([Label('Dependable, self-disciplined'), s3])\n",
    "q4 = HBox([Label('Anxious, easily upset'), s4])\n",
    "q5 = HBox([Label('Open to new experiences, complex'), s5])\n",
    "q6 = HBox([Label('Reserved, quiet'), s6])\n",
    "q7 = HBox([Label('Sympathetic, warm'), s7])\n",
    "q8 = HBox([Label('Disorganized, careless'), s8])\n",
    "q9 = HBox([Label('Calm, emotionally stable'), s9])\n",
    "q10 = HBox([Label('Conventional, uncreative'), s10])\n",
    "\n",
    "ui = ipw.VBox([q1, q2, q3, q4, q5, q6, q7, q8, q9, q10])\n",
    "def OHE(values):\n",
    "    encoded = np.zeros(70)\n",
    "    q = 0\n",
    "    for i in values:\n",
    "        if (i != 0):\n",
    "            encoded[7*q+i-1] = 1\n",
    "            q += 1\n",
    "    return encoded.T\n",
    "        \n",
    "def f(q1, q2, q3, q4, q5, q6, q7, q8, q9, q10):\n",
    "    values = np.array([q1, q2, q3, q4, q5, q6, q7, q8, q9, q10])\n",
    "    X_input = values.reshape(1, -1)\n",
    "    prediction = lr.predict(X_input)\n",
    "    print(prediction)\n",
    "    bar = ipw.FloatProgress(\n",
    "    value=prediction,\n",
    "    min=0,\n",
    "    max=56,\n",
    "    step=0.1,\n",
    "    description='Severity:',\n",
    "    bar_style='info',\n",
    "    orientation='vertical')\n",
    "    display(bar)\n",
    "    \n",
    "out = ipw.interactive_output(f, {'q1': s1, 'q2': s2, 'q3': s3, 'q4': s4, 'q5': s5, 'q6': s6, 'q7': s7, 'q8': s8, 'q9': s9, 'q10': s10})\n",
    "\n",
    "display(ui, out)"
   ]
  },
  {
   "cell_type": "code",
   "execution_count": 39,
   "metadata": {},
   "outputs": [],
   "source": [
    "embed_minimal_html('expor.html', views=[ui, out], title='Widgets export')"
   ]
  }
 ],
 "metadata": {
  "kernelspec": {
   "display_name": "Python 3",
   "language": "python",
   "name": "python3"
  },
  "language_info": {
   "codemirror_mode": {
    "name": "ipython",
    "version": 3
   },
   "file_extension": ".py",
   "mimetype": "text/x-python",
   "name": "python",
   "nbconvert_exporter": "python",
   "pygments_lexer": "ipython3",
   "version": "3.6.9"
  }
 },
 "nbformat": 4,
 "nbformat_minor": 4
}
