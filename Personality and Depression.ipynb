{
 "cells": [
  {
   "cell_type": "code",
   "execution_count": 88,
   "metadata": {},
   "outputs": [],
   "source": [
    "import numpy as np\n",
    "import pandas as pd\n",
    "import seaborn as sns\n",
    "import matplotlib.pyplot as plt\n",
    "sns.set()"
   ]
  },
  {
   "cell_type": "markdown",
   "metadata": {},
   "source": [
    "# Import Dataset"
   ]
  },
  {
   "cell_type": "code",
   "execution_count": 89,
   "metadata": {},
   "outputs": [],
   "source": [
    "df = pd.read_csv(\"data.csv\", sep = '\\t')"
   ]
  },
  {
   "cell_type": "code",
   "execution_count": 90,
   "metadata": {},
   "outputs": [
    {
     "data": {
      "text/plain": [
       "(39775, 172)"
      ]
     },
     "execution_count": 90,
     "metadata": {},
     "output_type": "execute_result"
    }
   ],
   "source": [
    "df.shape"
   ]
  },
  {
   "cell_type": "markdown",
   "metadata": {},
   "source": [
    "# Testing Purposes"
   ]
  },
  {
   "cell_type": "code",
   "execution_count": 91,
   "metadata": {},
   "outputs": [],
   "source": [
    "onehotencoded = True"
   ]
  },
  {
   "cell_type": "markdown",
   "metadata": {},
   "source": [
    "# Data Pre-Processing"
   ]
  },
  {
   "cell_type": "code",
   "execution_count": 92,
   "metadata": {},
   "outputs": [],
   "source": [
    "depression = ['Q3A', 'Q5A', 'Q10A', 'Q13A', 'Q16A', 'Q17A', 'Q21A', 'Q24A', 'Q26A', 'Q31A', 'Q34A', 'Q37A', 'Q38A', 'Q42A']\n",
    "\n",
    "\n",
    "df['Total'] = df[depression].sum(axis=1)\n",
    "\n",
    "\n",
    "df = df.drop(df.columns[np.arange(3*42)], axis = 1).drop(\"major\", axis = 1)"
   ]
  },
  {
   "cell_type": "code",
   "execution_count": 93,
   "metadata": {},
   "outputs": [],
   "source": [
    "validityChecks = ['VCL6', 'VCL9', 'VCL12']\n",
    "for check in validityChecks:\n",
    "    indexNames = df[ df[check] == 1 ].index\n",
    "    df.drop(indexNames , inplace=True)"
   ]
  },
  {
   "cell_type": "code",
   "execution_count": 94,
   "metadata": {},
   "outputs": [],
   "source": [
    "s = []\n",
    "for i in df.columns:\n",
    "    if type(df[i].iloc[0]) is not str:\n",
    "        s.append(i)\n",
    "    if type(df[i].iloc[0]) is str:\n",
    "        df = df.drop([i], axis = 1)"
   ]
  },
  {
   "cell_type": "code",
   "execution_count": 95,
   "metadata": {},
   "outputs": [],
   "source": [
    "df = df.drop(['source', 'introelapse', 'testelapse', 'surveyelapse', 'screensize', 'uniquenetworklocation'], axis = 1)"
   ]
  },
  {
   "cell_type": "code",
   "execution_count": 96,
   "metadata": {},
   "outputs": [],
   "source": [
    "df = df.drop(df.columns[10:26], axis = 1)"
   ]
  },
  {
   "cell_type": "code",
   "execution_count": 97,
   "metadata": {},
   "outputs": [
    {
     "data": {
      "text/html": [
       "<div>\n",
       "<style scoped>\n",
       "    .dataframe tbody tr th:only-of-type {\n",
       "        vertical-align: middle;\n",
       "    }\n",
       "\n",
       "    .dataframe tbody tr th {\n",
       "        vertical-align: top;\n",
       "    }\n",
       "\n",
       "    .dataframe thead th {\n",
       "        text-align: right;\n",
       "    }\n",
       "</style>\n",
       "<table border=\"1\" class=\"dataframe\">\n",
       "  <thead>\n",
       "    <tr style=\"text-align: right;\">\n",
       "      <th></th>\n",
       "      <th>TIPI1</th>\n",
       "      <th>TIPI2</th>\n",
       "      <th>TIPI3</th>\n",
       "      <th>TIPI4</th>\n",
       "      <th>TIPI5</th>\n",
       "      <th>TIPI6</th>\n",
       "      <th>TIPI7</th>\n",
       "      <th>TIPI8</th>\n",
       "      <th>TIPI9</th>\n",
       "      <th>TIPI10</th>\n",
       "      <th>...</th>\n",
       "      <th>engnat</th>\n",
       "      <th>age</th>\n",
       "      <th>hand</th>\n",
       "      <th>religion</th>\n",
       "      <th>orientation</th>\n",
       "      <th>race</th>\n",
       "      <th>voted</th>\n",
       "      <th>married</th>\n",
       "      <th>familysize</th>\n",
       "      <th>Total</th>\n",
       "    </tr>\n",
       "  </thead>\n",
       "  <tbody>\n",
       "    <tr>\n",
       "      <th>0</th>\n",
       "      <td>1</td>\n",
       "      <td>5</td>\n",
       "      <td>7</td>\n",
       "      <td>7</td>\n",
       "      <td>7</td>\n",
       "      <td>7</td>\n",
       "      <td>7</td>\n",
       "      <td>5</td>\n",
       "      <td>1</td>\n",
       "      <td>1</td>\n",
       "      <td>...</td>\n",
       "      <td>2</td>\n",
       "      <td>16</td>\n",
       "      <td>1</td>\n",
       "      <td>12</td>\n",
       "      <td>1</td>\n",
       "      <td>10</td>\n",
       "      <td>2</td>\n",
       "      <td>1</td>\n",
       "      <td>2</td>\n",
       "      <td>41</td>\n",
       "    </tr>\n",
       "    <tr>\n",
       "      <th>1</th>\n",
       "      <td>6</td>\n",
       "      <td>5</td>\n",
       "      <td>4</td>\n",
       "      <td>7</td>\n",
       "      <td>5</td>\n",
       "      <td>4</td>\n",
       "      <td>7</td>\n",
       "      <td>7</td>\n",
       "      <td>1</td>\n",
       "      <td>5</td>\n",
       "      <td>...</td>\n",
       "      <td>1</td>\n",
       "      <td>16</td>\n",
       "      <td>2</td>\n",
       "      <td>7</td>\n",
       "      <td>0</td>\n",
       "      <td>70</td>\n",
       "      <td>2</td>\n",
       "      <td>1</td>\n",
       "      <td>4</td>\n",
       "      <td>38</td>\n",
       "    </tr>\n",
       "    <tr>\n",
       "      <th>2</th>\n",
       "      <td>2</td>\n",
       "      <td>5</td>\n",
       "      <td>2</td>\n",
       "      <td>2</td>\n",
       "      <td>5</td>\n",
       "      <td>6</td>\n",
       "      <td>5</td>\n",
       "      <td>5</td>\n",
       "      <td>3</td>\n",
       "      <td>2</td>\n",
       "      <td>...</td>\n",
       "      <td>2</td>\n",
       "      <td>17</td>\n",
       "      <td>1</td>\n",
       "      <td>4</td>\n",
       "      <td>3</td>\n",
       "      <td>60</td>\n",
       "      <td>1</td>\n",
       "      <td>1</td>\n",
       "      <td>3</td>\n",
       "      <td>53</td>\n",
       "    </tr>\n",
       "    <tr>\n",
       "      <th>3</th>\n",
       "      <td>1</td>\n",
       "      <td>1</td>\n",
       "      <td>7</td>\n",
       "      <td>4</td>\n",
       "      <td>6</td>\n",
       "      <td>4</td>\n",
       "      <td>6</td>\n",
       "      <td>1</td>\n",
       "      <td>6</td>\n",
       "      <td>1</td>\n",
       "      <td>...</td>\n",
       "      <td>1</td>\n",
       "      <td>13</td>\n",
       "      <td>2</td>\n",
       "      <td>4</td>\n",
       "      <td>5</td>\n",
       "      <td>70</td>\n",
       "      <td>2</td>\n",
       "      <td>1</td>\n",
       "      <td>5</td>\n",
       "      <td>30</td>\n",
       "    </tr>\n",
       "    <tr>\n",
       "      <th>4</th>\n",
       "      <td>2</td>\n",
       "      <td>5</td>\n",
       "      <td>3</td>\n",
       "      <td>6</td>\n",
       "      <td>5</td>\n",
       "      <td>5</td>\n",
       "      <td>5</td>\n",
       "      <td>6</td>\n",
       "      <td>3</td>\n",
       "      <td>3</td>\n",
       "      <td>...</td>\n",
       "      <td>2</td>\n",
       "      <td>19</td>\n",
       "      <td>3</td>\n",
       "      <td>10</td>\n",
       "      <td>1</td>\n",
       "      <td>10</td>\n",
       "      <td>2</td>\n",
       "      <td>1</td>\n",
       "      <td>4</td>\n",
       "      <td>46</td>\n",
       "    </tr>\n",
       "  </tbody>\n",
       "</table>\n",
       "<p>5 rows × 23 columns</p>\n",
       "</div>"
      ],
      "text/plain": [
       "   TIPI1  TIPI2  TIPI3  TIPI4  TIPI5  TIPI6  TIPI7  TIPI8  TIPI9  TIPI10  \\\n",
       "0      1      5      7      7      7      7      7      5      1       1   \n",
       "1      6      5      4      7      5      4      7      7      1       5   \n",
       "2      2      5      2      2      5      6      5      5      3       2   \n",
       "3      1      1      7      4      6      4      6      1      6       1   \n",
       "4      2      5      3      6      5      5      5      6      3       3   \n",
       "\n",
       "   ...    engnat  age  hand  religion  orientation  race  voted  married  \\\n",
       "0  ...         2   16     1        12            1    10      2        1   \n",
       "1  ...         1   16     2         7            0    70      2        1   \n",
       "2  ...         2   17     1         4            3    60      1        1   \n",
       "3  ...         1   13     2         4            5    70      2        1   \n",
       "4  ...         2   19     3        10            1    10      2        1   \n",
       "\n",
       "   familysize  Total  \n",
       "0           2     41  \n",
       "1           4     38  \n",
       "2           3     53  \n",
       "3           5     30  \n",
       "4           4     46  \n",
       "\n",
       "[5 rows x 23 columns]"
      ]
     },
     "execution_count": 97,
     "metadata": {},
     "output_type": "execute_result"
    }
   ],
   "source": [
    "df.head()"
   ]
  },
  {
   "cell_type": "code",
   "execution_count": 98,
   "metadata": {},
   "outputs": [],
   "source": [
    "df = df.drop(df.columns[10:22], axis = 1)"
   ]
  },
  {
   "cell_type": "markdown",
   "metadata": {},
   "source": [
    "# Pre-Processed Data Set"
   ]
  },
  {
   "cell_type": "code",
   "execution_count": 99,
   "metadata": {},
   "outputs": [
    {
     "data": {
      "text/html": [
       "<div>\n",
       "<style scoped>\n",
       "    .dataframe tbody tr th:only-of-type {\n",
       "        vertical-align: middle;\n",
       "    }\n",
       "\n",
       "    .dataframe tbody tr th {\n",
       "        vertical-align: top;\n",
       "    }\n",
       "\n",
       "    .dataframe thead th {\n",
       "        text-align: right;\n",
       "    }\n",
       "</style>\n",
       "<table border=\"1\" class=\"dataframe\">\n",
       "  <thead>\n",
       "    <tr style=\"text-align: right;\">\n",
       "      <th></th>\n",
       "      <th>TIPI1</th>\n",
       "      <th>TIPI2</th>\n",
       "      <th>TIPI3</th>\n",
       "      <th>TIPI4</th>\n",
       "      <th>TIPI5</th>\n",
       "      <th>TIPI6</th>\n",
       "      <th>TIPI7</th>\n",
       "      <th>TIPI8</th>\n",
       "      <th>TIPI9</th>\n",
       "      <th>TIPI10</th>\n",
       "      <th>Total</th>\n",
       "    </tr>\n",
       "  </thead>\n",
       "  <tbody>\n",
       "    <tr>\n",
       "      <th>0</th>\n",
       "      <td>1</td>\n",
       "      <td>5</td>\n",
       "      <td>7</td>\n",
       "      <td>7</td>\n",
       "      <td>7</td>\n",
       "      <td>7</td>\n",
       "      <td>7</td>\n",
       "      <td>5</td>\n",
       "      <td>1</td>\n",
       "      <td>1</td>\n",
       "      <td>41</td>\n",
       "    </tr>\n",
       "    <tr>\n",
       "      <th>1</th>\n",
       "      <td>6</td>\n",
       "      <td>5</td>\n",
       "      <td>4</td>\n",
       "      <td>7</td>\n",
       "      <td>5</td>\n",
       "      <td>4</td>\n",
       "      <td>7</td>\n",
       "      <td>7</td>\n",
       "      <td>1</td>\n",
       "      <td>5</td>\n",
       "      <td>38</td>\n",
       "    </tr>\n",
       "    <tr>\n",
       "      <th>2</th>\n",
       "      <td>2</td>\n",
       "      <td>5</td>\n",
       "      <td>2</td>\n",
       "      <td>2</td>\n",
       "      <td>5</td>\n",
       "      <td>6</td>\n",
       "      <td>5</td>\n",
       "      <td>5</td>\n",
       "      <td>3</td>\n",
       "      <td>2</td>\n",
       "      <td>53</td>\n",
       "    </tr>\n",
       "    <tr>\n",
       "      <th>3</th>\n",
       "      <td>1</td>\n",
       "      <td>1</td>\n",
       "      <td>7</td>\n",
       "      <td>4</td>\n",
       "      <td>6</td>\n",
       "      <td>4</td>\n",
       "      <td>6</td>\n",
       "      <td>1</td>\n",
       "      <td>6</td>\n",
       "      <td>1</td>\n",
       "      <td>30</td>\n",
       "    </tr>\n",
       "    <tr>\n",
       "      <th>4</th>\n",
       "      <td>2</td>\n",
       "      <td>5</td>\n",
       "      <td>3</td>\n",
       "      <td>6</td>\n",
       "      <td>5</td>\n",
       "      <td>5</td>\n",
       "      <td>5</td>\n",
       "      <td>6</td>\n",
       "      <td>3</td>\n",
       "      <td>3</td>\n",
       "      <td>46</td>\n",
       "    </tr>\n",
       "  </tbody>\n",
       "</table>\n",
       "</div>"
      ],
      "text/plain": [
       "   TIPI1  TIPI2  TIPI3  TIPI4  TIPI5  TIPI6  TIPI7  TIPI8  TIPI9  TIPI10  \\\n",
       "0      1      5      7      7      7      7      7      5      1       1   \n",
       "1      6      5      4      7      5      4      7      7      1       5   \n",
       "2      2      5      2      2      5      6      5      5      3       2   \n",
       "3      1      1      7      4      6      4      6      1      6       1   \n",
       "4      2      5      3      6      5      5      5      6      3       3   \n",
       "\n",
       "   Total  \n",
       "0     41  \n",
       "1     38  \n",
       "2     53  \n",
       "3     30  \n",
       "4     46  "
      ]
     },
     "execution_count": 99,
     "metadata": {},
     "output_type": "execute_result"
    }
   ],
   "source": [
    "df.head()"
   ]
  },
  {
   "cell_type": "markdown",
   "metadata": {},
   "source": [
    "# Data Visualizations"
   ]
  },
  {
   "cell_type": "code",
   "execution_count": 58,
   "metadata": {},
   "outputs": [],
   "source": [
    "# Helps with visualizing the Mean Total against each column\n",
    "def graphMeans(column):\n",
    "    means = df.groupby([column]).mean()\n",
    "    #sns.barplot(x = means.index.values, y = 'Total', data = means)\n",
    "    lp = sns.lineplot(x = means.index.values, y = 'Total', data = means)\n",
    "    plt.ylim(0,56)\n",
    "    lp.set(xlabel = \"Response\")\n",
    "    plt.title(column + \" vs. Depression Score\")"
   ]
  },
  {
   "cell_type": "code",
   "execution_count": 59,
   "metadata": {},
   "outputs": [
    {
     "data": {
      "image/png": "[encoded data removed]",
      "text/plain": [
       "<Figure size 432x288 with 1 Axes>"
      ]
     },
     "metadata": {},
     "output_type": "display_data"
    }
   ],
   "source": [
    "graphMeans('TIPI10')"
   ]
  },
  {
   "cell_type": "code",
   "execution_count": 60,
   "metadata": {},
   "outputs": [
    {
     "data": {
      "text/plain": [
       "<matplotlib.legend.Legend at 0x7f00a8b316d8>"
      ]
     },
     "execution_count": 60,
     "metadata": {},
     "output_type": "execute_result"
    },
    {
     "data": {
      "image/png": "[encoded data removed]",
      "text/plain": [
       "<Figure size 432x288 with 1 Axes>"
      ]
     },
     "metadata": {},
     "output_type": "display_data"
    }
   ],
   "source": [
    "for s in df.columns[:-1]:\n",
    "    means = df.groupby([s]).mean()\n",
    "    vis = sns.lineplot(x = means.index.values, y = 'Total', data = means)\n",
    "    plt.ylim(0,56)\n",
    "    vis.set(xlabel = \"Response\")\n",
    "plt.title(\"TIPI vs. Depression Score\")\n",
    "plt.legend(labels=['TIPI1', 'TIPI2', 'TIPI3','TIPI4', 'TIPI5', 'TIPI6', 'TIPI7', 'TIPI8', 'TIPI9', 'TIPI10'], bbox_to_anchor=(1, 1))"
   ]
  },
  {
   "cell_type": "markdown",
   "metadata": {},
   "source": [
    "# One-Hot Encoding"
   ]
  },
  {
   "cell_type": "code",
   "execution_count": 61,
   "metadata": {},
   "outputs": [],
   "source": [
    "from sklearn.preprocessing import OneHotEncoder \n",
    "from sklearn.compose import ColumnTransformer"
   ]
  },
  {
   "cell_type": "code",
   "execution_count": 62,
   "metadata": {},
   "outputs": [
    {
     "name": "stderr",
     "output_type": "stream",
     "text": [
      "/srv/app/venv/lib/python3.6/site-packages/sklearn/preprocessing/_encoders.py:415: FutureWarning: The handling of integer data will change in version 0.22. Currently, the categories are determined based on the range [0, max(values)], while in the future they will be determined based on the unique values.\n",
      "If you want the future behaviour and silence this warning, you can specify \"categories='auto'\".\n",
      "In case you used a LabelEncoder before this OneHotEncoder to convert the categories to integers, then you can now use the OneHotEncoder directly.\n",
      "  warnings.warn(msg, FutureWarning)\n",
      "/srv/app/venv/lib/python3.6/site-packages/sklearn/preprocessing/_encoders.py:451: DeprecationWarning: The 'categorical_features' keyword is deprecated in version 0.20 and will be removed in 0.22. You can use the ColumnTransformer instead.\n",
      "  \"use the ColumnTransformer instead.\", DeprecationWarning)\n"
     ]
    }
   ],
   "source": [
    "encodingColumns = np.arange(0,len(df.columns) - 1)\n",
    "onehotencoder = OneHotEncoder(categorical_features = encodingColumns) \n",
    "data = onehotencoder.fit_transform(df).toarray()\n",
    "dfOHE = pd.DataFrame(data)\n",
    "OHEColumns = np.array(onehotencoder.get_feature_names(df.columns[0:len(df.columns) - 1]))\n",
    "OHEColumns = np.append(OHEColumns, 'Total')\n",
    "dfOHE.columns = OHEColumns"
   ]
  },
  {
   "cell_type": "markdown",
   "metadata": {},
   "source": [
    "# Drop First Column"
   ]
  },
  {
   "cell_type": "code",
   "execution_count": 63,
   "metadata": {},
   "outputs": [],
   "source": [
    "numOnes = np.array(['TIPI1_0.0', 'TIPI2_0.0', 'TIPI3_0.0', 'TIPI4_0.0', 'TIPI5_0.0',\n",
    "       'TIPI6_0.0', 'TIPI7_0.0', 'TIPI8_0.0', 'TIPI9_0.0',\n",
    "       'TIPI10_0.0'])\n",
    "dfOHE = dfOHE.drop(numOnes, axis = 1)"
   ]
  },
  {
   "cell_type": "markdown",
   "metadata": {},
   "source": [
    "# One Hot Encoded Dataset"
   ]
  },
  {
   "cell_type": "code",
   "execution_count": 64,
   "metadata": {},
   "outputs": [
    {
     "data": {
      "text/html": [
       "<div>\n",
       "<style scoped>\n",
       "    .dataframe tbody tr th:only-of-type {\n",
       "        vertical-align: middle;\n",
       "    }\n",
       "\n",
       "    .dataframe tbody tr th {\n",
       "        vertical-align: top;\n",
       "    }\n",
       "\n",
       "    .dataframe thead th {\n",
       "        text-align: right;\n",
       "    }\n",
       "</style>\n",
       "<table border=\"1\" class=\"dataframe\">\n",
       "  <thead>\n",
       "    <tr style=\"text-align: right;\">\n",
       "      <th></th>\n",
       "      <th>TIPI1_1.0</th>\n",
       "      <th>TIPI1_2.0</th>\n",
       "      <th>TIPI1_3.0</th>\n",
       "      <th>TIPI1_4.0</th>\n",
       "      <th>TIPI1_5.0</th>\n",
       "      <th>TIPI1_6.0</th>\n",
       "      <th>TIPI1_7.0</th>\n",
       "      <th>TIPI2_1.0</th>\n",
       "      <th>TIPI2_2.0</th>\n",
       "      <th>TIPI2_3.0</th>\n",
       "      <th>...</th>\n",
       "      <th>TIPI9_6.0</th>\n",
       "      <th>TIPI9_7.0</th>\n",
       "      <th>TIPI10_1.0</th>\n",
       "      <th>TIPI10_2.0</th>\n",
       "      <th>TIPI10_3.0</th>\n",
       "      <th>TIPI10_4.0</th>\n",
       "      <th>TIPI10_5.0</th>\n",
       "      <th>TIPI10_6.0</th>\n",
       "      <th>TIPI10_7.0</th>\n",
       "      <th>Total</th>\n",
       "    </tr>\n",
       "  </thead>\n",
       "  <tbody>\n",
       "    <tr>\n",
       "      <th>0</th>\n",
       "      <td>1.0</td>\n",
       "      <td>0.0</td>\n",
       "      <td>0.0</td>\n",
       "      <td>0.0</td>\n",
       "      <td>0.0</td>\n",
       "      <td>0.0</td>\n",
       "      <td>0.0</td>\n",
       "      <td>0.0</td>\n",
       "      <td>0.0</td>\n",
       "      <td>0.0</td>\n",
       "      <td>...</td>\n",
       "      <td>0.0</td>\n",
       "      <td>0.0</td>\n",
       "      <td>1.0</td>\n",
       "      <td>0.0</td>\n",
       "      <td>0.0</td>\n",
       "      <td>0.0</td>\n",
       "      <td>0.0</td>\n",
       "      <td>0.0</td>\n",
       "      <td>0.0</td>\n",
       "      <td>41.0</td>\n",
       "    </tr>\n",
       "    <tr>\n",
       "      <th>1</th>\n",
       "      <td>0.0</td>\n",
       "      <td>0.0</td>\n",
       "      <td>0.0</td>\n",
       "      <td>0.0</td>\n",
       "      <td>0.0</td>\n",
       "      <td>1.0</td>\n",
       "      <td>0.0</td>\n",
       "      <td>0.0</td>\n",
       "      <td>0.0</td>\n",
       "      <td>0.0</td>\n",
       "      <td>...</td>\n",
       "      <td>0.0</td>\n",
       "      <td>0.0</td>\n",
       "      <td>0.0</td>\n",
       "      <td>0.0</td>\n",
       "      <td>0.0</td>\n",
       "      <td>0.0</td>\n",
       "      <td>1.0</td>\n",
       "      <td>0.0</td>\n",
       "      <td>0.0</td>\n",
       "      <td>38.0</td>\n",
       "    </tr>\n",
       "    <tr>\n",
       "      <th>2</th>\n",
       "      <td>0.0</td>\n",
       "      <td>1.0</td>\n",
       "      <td>0.0</td>\n",
       "      <td>0.0</td>\n",
       "      <td>0.0</td>\n",
       "      <td>0.0</td>\n",
       "      <td>0.0</td>\n",
       "      <td>0.0</td>\n",
       "      <td>0.0</td>\n",
       "      <td>0.0</td>\n",
       "      <td>...</td>\n",
       "      <td>0.0</td>\n",
       "      <td>0.0</td>\n",
       "      <td>0.0</td>\n",
       "      <td>1.0</td>\n",
       "      <td>0.0</td>\n",
       "      <td>0.0</td>\n",
       "      <td>0.0</td>\n",
       "      <td>0.0</td>\n",
       "      <td>0.0</td>\n",
       "      <td>53.0</td>\n",
       "    </tr>\n",
       "    <tr>\n",
       "      <th>3</th>\n",
       "      <td>1.0</td>\n",
       "      <td>0.0</td>\n",
       "      <td>0.0</td>\n",
       "      <td>0.0</td>\n",
       "      <td>0.0</td>\n",
       "      <td>0.0</td>\n",
       "      <td>0.0</td>\n",
       "      <td>1.0</td>\n",
       "      <td>0.0</td>\n",
       "      <td>0.0</td>\n",
       "      <td>...</td>\n",
       "      <td>1.0</td>\n",
       "      <td>0.0</td>\n",
       "      <td>1.0</td>\n",
       "      <td>0.0</td>\n",
       "      <td>0.0</td>\n",
       "      <td>0.0</td>\n",
       "      <td>0.0</td>\n",
       "      <td>0.0</td>\n",
       "      <td>0.0</td>\n",
       "      <td>30.0</td>\n",
       "    </tr>\n",
       "    <tr>\n",
       "      <th>4</th>\n",
       "      <td>0.0</td>\n",
       "      <td>1.0</td>\n",
       "      <td>0.0</td>\n",
       "      <td>0.0</td>\n",
       "      <td>0.0</td>\n",
       "      <td>0.0</td>\n",
       "      <td>0.0</td>\n",
       "      <td>0.0</td>\n",
       "      <td>0.0</td>\n",
       "      <td>0.0</td>\n",
       "      <td>...</td>\n",
       "      <td>0.0</td>\n",
       "      <td>0.0</td>\n",
       "      <td>0.0</td>\n",
       "      <td>0.0</td>\n",
       "      <td>1.0</td>\n",
       "      <td>0.0</td>\n",
       "      <td>0.0</td>\n",
       "      <td>0.0</td>\n",
       "      <td>0.0</td>\n",
       "      <td>46.0</td>\n",
       "    </tr>\n",
       "  </tbody>\n",
       "</table>\n",
       "<p>5 rows × 71 columns</p>\n",
       "</div>"
      ],
      "text/plain": [
       "   TIPI1_1.0  TIPI1_2.0  TIPI1_3.0  TIPI1_4.0  TIPI1_5.0  TIPI1_6.0  \\\n",
       "0        1.0        0.0        0.0        0.0        0.0        0.0   \n",
       "1        0.0        0.0        0.0        0.0        0.0        1.0   \n",
       "2        0.0        1.0        0.0        0.0        0.0        0.0   \n",
       "3        1.0        0.0        0.0        0.0        0.0        0.0   \n",
       "4        0.0        1.0        0.0        0.0        0.0        0.0   \n",
       "\n",
       "   TIPI1_7.0  TIPI2_1.0  TIPI2_2.0  TIPI2_3.0  ...    TIPI9_6.0  TIPI9_7.0  \\\n",
       "0        0.0        0.0        0.0        0.0  ...          0.0        0.0   \n",
       "1        0.0        0.0        0.0        0.0  ...          0.0        0.0   \n",
       "2        0.0        0.0        0.0        0.0  ...          0.0        0.0   \n",
       "3        0.0        1.0        0.0        0.0  ...          1.0        0.0   \n",
       "4        0.0        0.0        0.0        0.0  ...          0.0        0.0   \n",
       "\n",
       "   TIPI10_1.0  TIPI10_2.0  TIPI10_3.0  TIPI10_4.0  TIPI10_5.0  TIPI10_6.0  \\\n",
       "0         1.0         0.0         0.0         0.0         0.0         0.0   \n",
       "1         0.0         0.0         0.0         0.0         1.0         0.0   \n",
       "2         0.0         1.0         0.0         0.0         0.0         0.0   \n",
       "3         1.0         0.0         0.0         0.0         0.0         0.0   \n",
       "4         0.0         0.0         1.0         0.0         0.0         0.0   \n",
       "\n",
       "   TIPI10_7.0  Total  \n",
       "0         0.0   41.0  \n",
       "1         0.0   38.0  \n",
       "2         0.0   53.0  \n",
       "3         0.0   30.0  \n",
       "4         0.0   46.0  \n",
       "\n",
       "[5 rows x 71 columns]"
      ]
     },
     "execution_count": 64,
     "metadata": {},
     "output_type": "execute_result"
    }
   ],
   "source": [
    "dfOHE.head()"
   ]
  },
  {
   "cell_type": "markdown",
   "metadata": {},
   "source": [
    "# Test-Training Split"
   ]
  },
  {
   "cell_type": "code",
   "execution_count": 65,
   "metadata": {},
   "outputs": [],
   "source": [
    "from sklearn.model_selection import train_test_split"
   ]
  },
  {
   "cell_type": "code",
   "execution_count": 66,
   "metadata": {},
   "outputs": [],
   "source": [
    "if(onehotencoded):\n",
    "    features = dfOHE.columns[0:len(dfOHE.columns) - 1]\n",
    "    X = pd.DataFrame(dfOHE[features])\n",
    "    y = pd.DataFrame(dfOHE.Total)\n",
    "else:\n",
    "    features = df.columns[0:len(df.columns) - 1]\n",
    "    X = pd.DataFrame(df[features])\n",
    "    y = pd.DataFrame(df.Total)"
   ]
  },
  {
   "cell_type": "code",
   "execution_count": 67,
   "metadata": {},
   "outputs": [],
   "source": [
    "X_train, X_test, y_train, y_test = train_test_split(X, y, test_size = 0.2)"
   ]
  },
  {
   "cell_type": "markdown",
   "metadata": {},
   "source": [
    "# Feature Importance"
   ]
  },
  {
   "cell_type": "code",
   "execution_count": 68,
   "metadata": {},
   "outputs": [],
   "source": [
    "from sklearn.ensemble import RandomForestRegressor\n",
    "from sklearn.metrics import mean_squared_error\n",
    "from sklearn.metrics import r2_score"
   ]
  },
  {
   "cell_type": "markdown",
   "metadata": {},
   "source": [
    "## Train Random Forest Regressor"
   ]
  },
  {
   "cell_type": "code",
   "execution_count": 69,
   "metadata": {},
   "outputs": [
    {
     "name": "stderr",
     "output_type": "stream",
     "text": [
      "/srv/app/venv/lib/python3.6/site-packages/sklearn/ensemble/forest.py:245: FutureWarning: The default value of n_estimators will change from 10 in version 0.20 to 100 in 0.22.\n",
      "  \"10 in version 0.20 to 100 in 0.22.\", FutureWarning)\n",
      "/srv/app/venv/lib/python3.6/site-packages/ipykernel_launcher.py:2: DataConversionWarning: A column-vector y was passed when a 1d array was expected. Please change the shape of y to (n_samples,), for example using ravel().\n",
      "  \n"
     ]
    },
    {
     "data": {
      "text/plain": [
       "RandomForestRegressor(bootstrap=True, criterion='mse', max_depth=None,\n",
       "                      max_features='auto', max_leaf_nodes=None,\n",
       "                      min_impurity_decrease=0.0, min_impurity_split=None,\n",
       "                      min_samples_leaf=1, min_samples_split=2,\n",
       "                      min_weight_fraction_leaf=0.0, n_estimators=10,\n",
       "                      n_jobs=None, oob_score=False, random_state=None,\n",
       "                      verbose=0, warm_start=False)"
      ]
     },
     "execution_count": 69,
     "metadata": {},
     "output_type": "execute_result"
    }
   ],
   "source": [
    "rf = RandomForestRegressor() \n",
    "rf.fit(X_train, y_train) "
   ]
  },
  {
   "cell_type": "code",
   "execution_count": 70,
   "metadata": {},
   "outputs": [
    {
     "data": {
      "text/html": [
       "<div>\n",
       "<style scoped>\n",
       "    .dataframe tbody tr th:only-of-type {\n",
       "        vertical-align: middle;\n",
       "    }\n",
       "\n",
       "    .dataframe tbody tr th {\n",
       "        vertical-align: top;\n",
       "    }\n",
       "\n",
       "    .dataframe thead th {\n",
       "        text-align: right;\n",
       "    }\n",
       "</style>\n",
       "<table border=\"1\" class=\"dataframe\">\n",
       "  <thead>\n",
       "    <tr style=\"text-align: right;\">\n",
       "      <th></th>\n",
       "      <th>Features</th>\n",
       "      <th>Importance</th>\n",
       "    </tr>\n",
       "  </thead>\n",
       "  <tbody>\n",
       "    <tr>\n",
       "      <th>27</th>\n",
       "      <td>TIPI4_7.0</td>\n",
       "      <td>0.143289</td>\n",
       "    </tr>\n",
       "    <tr>\n",
       "      <th>26</th>\n",
       "      <td>TIPI4_6.0</td>\n",
       "      <td>0.051790</td>\n",
       "    </tr>\n",
       "    <tr>\n",
       "      <th>56</th>\n",
       "      <td>TIPI9_1.0</td>\n",
       "      <td>0.044492</td>\n",
       "    </tr>\n",
       "    <tr>\n",
       "      <th>57</th>\n",
       "      <td>TIPI9_2.0</td>\n",
       "      <td>0.027949</td>\n",
       "    </tr>\n",
       "    <tr>\n",
       "      <th>41</th>\n",
       "      <td>TIPI6_7.0</td>\n",
       "      <td>0.021118</td>\n",
       "    </tr>\n",
       "  </tbody>\n",
       "</table>\n",
       "</div>"
      ],
      "text/plain": [
       "     Features  Importance\n",
       "27  TIPI4_7.0    0.143289\n",
       "26  TIPI4_6.0    0.051790\n",
       "56  TIPI9_1.0    0.044492\n",
       "57  TIPI9_2.0    0.027949\n",
       "41  TIPI6_7.0    0.021118"
      ]
     },
     "execution_count": 70,
     "metadata": {},
     "output_type": "execute_result"
    }
   ],
   "source": [
    "featuresColumn = np.array(X_train.columns)\n",
    "importanceColumn = np.array(rf.feature_importances_)\n",
    "featureDict = {'Features': featuresColumn, 'Importance': importanceColumn}\n",
    "\n",
    "fI = pd.DataFrame.from_dict(featureDict).sort_values('Importance', ascending=False)\n",
    "fI.head()"
   ]
  },
  {
   "cell_type": "code",
   "execution_count": 71,
   "metadata": {},
   "outputs": [
    {
     "data": {
      "text/html": [
       "<div>\n",
       "<style scoped>\n",
       "    .dataframe tbody tr th:only-of-type {\n",
       "        vertical-align: middle;\n",
       "    }\n",
       "\n",
       "    .dataframe tbody tr th {\n",
       "        vertical-align: top;\n",
       "    }\n",
       "\n",
       "    .dataframe thead th {\n",
       "        text-align: right;\n",
       "    }\n",
       "</style>\n",
       "<table border=\"1\" class=\"dataframe\">\n",
       "  <thead>\n",
       "    <tr style=\"text-align: right;\">\n",
       "      <th></th>\n",
       "      <th>Traits</th>\n",
       "      <th>Importance</th>\n",
       "    </tr>\n",
       "  </thead>\n",
       "  <tbody>\n",
       "    <tr>\n",
       "      <th>3</th>\n",
       "      <td>Neuroticism</td>\n",
       "      <td>0.355062</td>\n",
       "    </tr>\n",
       "    <tr>\n",
       "      <th>0</th>\n",
       "      <td>Extraversion</td>\n",
       "      <td>0.246252</td>\n",
       "    </tr>\n",
       "    <tr>\n",
       "      <th>4</th>\n",
       "      <td>Openness</td>\n",
       "      <td>0.163262</td>\n",
       "    </tr>\n",
       "    <tr>\n",
       "      <th>2</th>\n",
       "      <td>Conscientiousness</td>\n",
       "      <td>0.162115</td>\n",
       "    </tr>\n",
       "    <tr>\n",
       "      <th>1</th>\n",
       "      <td>Agreeableness</td>\n",
       "      <td>0.159692</td>\n",
       "    </tr>\n",
       "  </tbody>\n",
       "</table>\n",
       "</div>"
      ],
      "text/plain": [
       "              Traits  Importance\n",
       "3        Neuroticism    0.355062\n",
       "0       Extraversion    0.246252\n",
       "4           Openness    0.163262\n",
       "2  Conscientiousness    0.162115\n",
       "1      Agreeableness    0.159692"
      ]
     },
     "execution_count": 71,
     "metadata": {},
     "output_type": "execute_result"
    }
   ],
   "source": [
    "columns = np.array(['TIPI1', 'TIPI2', 'TIPI3', 'TIPI4', 'TIPI5', 'TIPI6', 'TIPI7', 'TIPI8', 'TIPI9', 'TIPI10'])\n",
    "vals = np.zeros(10)\n",
    "d = {}\n",
    "for A, B in zip(columns, vals):\n",
    "    d[A] = B\n",
    "for i in np.arange(len(fI.Features)):\n",
    "    name = fI.iloc[i,0]\n",
    "    if 'TIPI1' in name:\n",
    "        d['TIPI1'] = d.get('TIPI1') + fI.iloc[i,1]\n",
    "    if 'TIPI2' in name:\n",
    "        d['TIPI2'] = d.get('TIPI2') + fI.iloc[i,1]\n",
    "    if 'TIPI3' in name:\n",
    "        d['TIPI3'] = d.get('TIPI3') + fI.iloc[i,1]\n",
    "    if 'TIPI4' in name:\n",
    "        d['TIPI4'] = d.get('TIPI4') + fI.iloc[i,1]\n",
    "    if 'TIPI5' in name:\n",
    "        d['TIPI5'] = d.get('TIPI5') + fI.iloc[i,1]\n",
    "    if 'TIPI6' in name:\n",
    "        d['TIPI6'] = d.get('TIPI6') + fI.iloc[i,1]\n",
    "    if 'TIPI7' in name:\n",
    "        d['TIPI7'] = d.get('TIPI7') + fI.iloc[i,1]\n",
    "    if 'TIPI8' in name:\n",
    "        d['TIPI8'] = d.get('TIPI8') + fI.iloc[i,1]\n",
    "    if 'TIPI9' in name:\n",
    "        d['TIPI9'] = d.get('TIPI9') + fI.iloc[i,1]\n",
    "    if 'TIPI10' in name:\n",
    "        d['TIPI10'] = d.get('TIPI10') + fI.iloc[i,1]\n",
    "        \n",
    "extraversion = d['TIPI1'] + d['TIPI6']\n",
    "agreeableness = d['TIPI2'] + d['TIPI7']\n",
    "conscientiousness = d['TIPI3'] + d['TIPI8']\n",
    "neuroticism = d['TIPI4'] + d['TIPI9']\n",
    "openness = d['TIPI5'] + d['TIPI10']\n",
    "traitDict = {'Traits': ['Extraversion', 'Agreeableness', 'Conscientiousness', 'Neuroticism', 'Openness'], \n",
    "               'Importance': [extraversion, agreeableness, conscientiousness, neuroticism, openness]}\n",
    "tI = pd.DataFrame(data = traitDict).sort_values('Importance', ascending=False)\n",
    "tI"
   ]
  },
  {
   "cell_type": "markdown",
   "metadata": {},
   "source": [
    "## For Without OHE"
   ]
  },
  {
   "cell_type": "code",
   "execution_count": 72,
   "metadata": {},
   "outputs": [],
   "source": [
    "#extraversion = fI.loc[fI['Features'] == 'TIPI1'].iloc[0]['Importance'] + fI.loc[fI['Features'] == 'TIPI6'].iloc[0]['Importance']\n",
    "#agreeableness = fI.loc[fI['Features'] == 'TIPI2'].iloc[0]['Importance'] + fI.loc[fI['Features'] == 'TIPI7'].iloc[0]['Importance']\n",
    "#conscientiousness = fI.loc[fI['Features'] == 'TIPI3'].iloc[0]['Importance'] + fI.loc[fI['Features'] == 'TIPI8'].iloc[0]['Importance']\n",
    "#neuroticism = fI.loc[fI['Features'] == 'TIPI4'].iloc[0]['Importance'] + fI.loc[fI['Features'] == 'TIPI9'].iloc[0]['Importance']\n",
    "#openness = fI.loc[fI['Features'] == 'TIPI5'].iloc[0]['Importance'] + fI.loc[fI['Features'] == 'TIPI10'].iloc[0]['Importance']\n",
    "#traitDict = {'Traits': ['Extraversion', 'Agreeableness', 'Conscientiousness', 'Neuroticism', 'Openness'], \n",
    "               #'Importance': [extraversion, agreeableness, conscientiousness, neuroticism, openness]}\n",
    "#tI = pd.DataFrame(data = traitDict).sort_values('Importance', ascending=False)\n",
    "#tI"
   ]
  },
  {
   "cell_type": "code",
   "execution_count": 73,
   "metadata": {},
   "outputs": [],
   "source": [
    "y_pred = rf.predict(X_test)"
   ]
  },
  {
   "cell_type": "code",
   "execution_count": 74,
   "metadata": {},
   "outputs": [
    {
     "name": "stdout",
     "output_type": "stream",
     "text": [
      "R-squared value on Training Set: 0.8654594378640061\n",
      "R-squared value on Testing Set: 0.24812667133214938\n",
      "RMSE: 10.639666406242897\n"
     ]
    }
   ],
   "source": [
    "print(\"R-squared value on Training Set:\", rf.score(X_train, y_train))\n",
    "print(\"R-squared value on Testing Set:\", rf.score(X_test, y_test))\n",
    "print(\"RMSE:\", mean_squared_error(y_test, y_pred) ** 0.5)"
   ]
  },
  {
   "cell_type": "markdown",
   "metadata": {},
   "source": [
    "# Linear Regression"
   ]
  },
  {
   "cell_type": "code",
   "execution_count": 75,
   "metadata": {},
   "outputs": [],
   "source": [
    "from sklearn.linear_model import LinearRegression"
   ]
  },
  {
   "cell_type": "code",
   "execution_count": 76,
   "metadata": {},
   "outputs": [],
   "source": [
    "lr = LinearRegression()\n",
    "lr.fit(X_train, y_train)\n",
    "y_predlr = lr.predict(X_test)"
   ]
  },
  {
   "cell_type": "code",
   "execution_count": 77,
   "metadata": {},
   "outputs": [
    {
     "name": "stdout",
     "output_type": "stream",
     "text": [
      "R-squared value on Training Set: 0.3776480704523476\n",
      "R-squared value on Test Set: 0.35807399606535184\n",
      "RMSE: 9.831010416041154\n"
     ]
    }
   ],
   "source": [
    "print(\"R-squared value on Training Set:\", lr.score(X_train, y_train))\n",
    "print(\"R-squared value on Test Set:\", lr.score(X_test, y_test))\n",
    "print(\"RMSE:\", mean_squared_error(y_test, y_predlr) ** 0.5)"
   ]
  },
  {
   "cell_type": "code",
   "execution_count": 78,
   "metadata": {},
   "outputs": [
    {
     "data": {
      "text/plain": [
       "0.3776480704523476"
      ]
     },
     "execution_count": 78,
     "metadata": {},
     "output_type": "execute_result"
    }
   ],
   "source": [
    "lr.score(X_train, y_train)"
   ]
  },
  {
   "cell_type": "code",
   "execution_count": 79,
   "metadata": {},
   "outputs": [
    {
     "data": {
      "text/plain": [
       "0.35807399606535184"
      ]
     },
     "execution_count": 79,
     "metadata": {},
     "output_type": "execute_result"
    }
   ],
   "source": [
    "lr.score(X_test, y_test)"
   ]
  },
  {
   "cell_type": "code",
   "execution_count": 80,
   "metadata": {},
   "outputs": [
    {
     "data": {
      "text/plain": [
       "9.831010416041154"
      ]
     },
     "execution_count": 80,
     "metadata": {},
     "output_type": "execute_result"
    }
   ],
   "source": [
    "mean_squared_error(y_test, y_predlr) ** 0.5"
   ]
  },
  {
   "cell_type": "code",
   "execution_count": 81,
   "metadata": {},
   "outputs": [],
   "source": [
    "fCol = np.array(X_train.columns)\n",
    "importanceCol = np.array(lr.coef_[0])\n",
    "featureDict = {'Features': fCol, 'Importance': importanceCol}\n",
    "\n",
    "fILR = pd.DataFrame.from_dict(featureDict)#.sort_values('Importance', ascending=False)"
   ]
  },
  {
   "cell_type": "code",
   "execution_count": 82,
   "metadata": {},
   "outputs": [],
   "source": [
    "TIPI1 = sum(lr.coef_[0][0:7])\n",
    "TIPI2 = abs(sum(lr.coef_[0][7:14]))\n",
    "TIPI3 = abs(sum(lr.coef_[0][14:21]))\n",
    "TIPI4 = abs(sum(lr.coef_[0][21:28]))\n",
    "TIPI5 = abs(sum(lr.coef_[0][28:35]))\n",
    "TIPI6 = abs(sum(lr.coef_[0][35:42]))\n",
    "TIPI7 = abs(sum(lr.coef_[0][42:49]))\n",
    "TIPI8 = abs(sum(lr.coef_[0][49:56]))\n",
    "TIPI9 = abs(sum(lr.coef_[0][56:63]))\n",
    "TIPI10 = abs(sum(lr.coef_[0][63:70]))\n"
   ]
  },
  {
   "cell_type": "code",
   "execution_count": 83,
   "metadata": {},
   "outputs": [
    {
     "name": "stdout",
     "output_type": "stream",
     "text": [
      "Extraversion 13.52213760545461\n",
      "Agreeableness 6.549211486348733\n",
      "Conscientiousness 14.780219742587406\n",
      "Neuroticism 14.536955525597765\n",
      "Openness 15.444442754638434\n"
     ]
    }
   ],
   "source": [
    "print(\"Extraversion\", TIPI1 + TIPI6)\n",
    "print(\"Agreeableness\", TIPI2 + TIPI7)\n",
    "print(\"Conscientiousness\", TIPI3 + TIPI8)\n",
    "print(\"Neuroticism\", TIPI4 + TIPI9)\n",
    "print(\"Openness\", TIPI5 + TIPI10)"
   ]
  },
  {
   "cell_type": "code",
   "execution_count": 84,
   "metadata": {},
   "outputs": [
    {
     "data": {
      "text/html": [
       "<div>\n",
       "<style scoped>\n",
       "    .dataframe tbody tr th:only-of-type {\n",
       "        vertical-align: middle;\n",
       "    }\n",
       "\n",
       "    .dataframe tbody tr th {\n",
       "        vertical-align: top;\n",
       "    }\n",
       "\n",
       "    .dataframe thead th {\n",
       "        text-align: right;\n",
       "    }\n",
       "</style>\n",
       "<table border=\"1\" class=\"dataframe\">\n",
       "  <thead>\n",
       "    <tr style=\"text-align: right;\">\n",
       "      <th></th>\n",
       "      <th>Traits</th>\n",
       "      <th>Importance</th>\n",
       "    </tr>\n",
       "  </thead>\n",
       "  <tbody>\n",
       "    <tr>\n",
       "      <th>4</th>\n",
       "      <td>Openness</td>\n",
       "      <td>15.444443</td>\n",
       "    </tr>\n",
       "    <tr>\n",
       "      <th>2</th>\n",
       "      <td>Conscientiousness</td>\n",
       "      <td>14.780220</td>\n",
       "    </tr>\n",
       "    <tr>\n",
       "      <th>3</th>\n",
       "      <td>Neuroticism</td>\n",
       "      <td>14.536956</td>\n",
       "    </tr>\n",
       "    <tr>\n",
       "      <th>0</th>\n",
       "      <td>Extraversion</td>\n",
       "      <td>13.522138</td>\n",
       "    </tr>\n",
       "    <tr>\n",
       "      <th>1</th>\n",
       "      <td>Agreeableness</td>\n",
       "      <td>6.549211</td>\n",
       "    </tr>\n",
       "  </tbody>\n",
       "</table>\n",
       "</div>"
      ],
      "text/plain": [
       "              Traits  Importance\n",
       "4           Openness   15.444443\n",
       "2  Conscientiousness   14.780220\n",
       "3        Neuroticism   14.536956\n",
       "0       Extraversion   13.522138\n",
       "1      Agreeableness    6.549211"
      ]
     },
     "execution_count": 84,
     "metadata": {},
     "output_type": "execute_result"
    }
   ],
   "source": [
    "extraLR = TIPI1 + TIPI6\n",
    "agreeLR = TIPI2 + TIPI7\n",
    "conLR = TIPI3 + TIPI8\n",
    "neuLR = TIPI4 + TIPI9\n",
    "openLR = TIPI5 + TIPI10\n",
    "\n",
    "traits = np.array([\"Extraversion\", \"Agreeableness\", \"Conscientiousness\", \"Neuroticism\", \"Openness\"])\n",
    "importance = np.array([extraLR, agreeLR, conLR, neuLR, openLR])\n",
    "featureDict = {'Traits': traits, 'Importance': importance}\n",
    "fILR = pd.DataFrame.from_dict(featureDict).sort_values('Importance', ascending=False)\n",
    "fILR"
   ]
  },
  {
   "cell_type": "markdown",
   "metadata": {},
   "source": [
    "# Widget Visualizer"
   ]
  },
  {
   "cell_type": "code",
   "execution_count": 85,
   "metadata": {},
   "outputs": [],
   "source": [
    "import ipywidgets as ipw\n",
    "from ipywidgets import interact, interactive, fixed, interact_manual, HBox, VBox, Label\n",
    "import numpy as np"
   ]
  },
  {
   "cell_type": "code",
   "execution_count": 87,
   "metadata": {},
   "outputs": [
    {
     "data": {
      "application/vnd.jupyter.widget-view+json": {
       "model_id": "514f06d7ee0a458bbd714430f4167d4b",
       "version_major": 2,
       "version_minor": 0
      },
      "text/plain": [
       "VBox(children=(HBox(children=(Label(value='Extraverted, Enthusiastic'), IntSlider(value=0, max=7))), HBox(chil…"
      ]
     },
     "metadata": {},
     "output_type": "display_data"
    },
    {
     "data": {
      "application/vnd.jupyter.widget-view+json": {
       "model_id": "a471ef9e579c413c84a7d8a6ea18e5b5",
       "version_major": 2,
       "version_minor": 0
      },
      "text/plain": [
       "Output()"
      ]
     },
     "metadata": {},
     "output_type": "display_data"
    }
   ],
   "source": [
    "s1 = ipw.IntSlider(min = 0, max = 7)\n",
    "s2 = ipw.IntSlider(min = 0, max = 7)\n",
    "s3 = ipw.IntSlider(min = 0, max = 7)\n",
    "s4 = ipw.IntSlider(min = 0, max = 7)\n",
    "s5 = ipw.IntSlider(min = 0, max = 7)\n",
    "s6 = ipw.IntSlider(min = 0, max = 7)\n",
    "s7 = ipw.IntSlider(min = 0, max = 7)\n",
    "s8 = ipw.IntSlider(min = 0, max = 7)\n",
    "s9 = ipw.IntSlider(min = 0, max = 7)\n",
    "s10 = ipw.IntSlider(min = 0, max = 7)\n",
    "\n",
    "q1 = HBox([Label('Extraverted, Enthusiastic'), s1])\n",
    "q2 = HBox([Label('Critical, quarrelsome'), s2])\n",
    "q3 = HBox([Label('Dependable, self-disciplined'), s3])\n",
    "q4 = HBox([Label('Anxious, easily upset'), s4])\n",
    "q5 = HBox([Label('Open to new experiences, complex'), s5])\n",
    "q6 = HBox([Label('Reserved, quiet'), s6])\n",
    "q7 = HBox([Label('Sympathetic, warm'), s7])\n",
    "q8 = HBox([Label('Disorganized, careless'), s8])\n",
    "q9 = HBox([Label('Calm, emotionally stable'), s9])\n",
    "q10 = HBox([Label('Conventional, uncreative'), s10])\n",
    "\n",
    "ui = ipw.VBox([q1, q2, q3, q4, q5, q6, q7, q8, q9, q10])\n",
    "def OHE(values):\n",
    "    encoded = np.zeros(70)\n",
    "    q = 0\n",
    "    for i in values:\n",
    "        if (i != 0):\n",
    "            encoded[7*q+i-1] = 1\n",
    "            q += 1\n",
    "    return encoded.T\n",
    "        \n",
    "def f(q1, q2, q3, q4, q5, q6, q7, q8, q9, q10):\n",
    "    values = np.array([q1, q2, q3, q4, q5, q6, q7, q8, q9, q10])\n",
    "    if(onehotencoded):\n",
    "        X_input = OHE(values).reshape(1,-1)\n",
    "    else: \n",
    "        X_input = values.reshape(1,-1)\n",
    "    prediction = lr.predict(X_input)\n",
    "    print(prediction)\n",
    "    bar = ipw.FloatProgress(\n",
    "    value=prediction,\n",
    "    min=0,\n",
    "    max=56,\n",
    "    step=0.1,\n",
    "    description='Severity:',\n",
    "    bar_style='info',\n",
    "    orientation='vertical')\n",
    "    display(bar)\n",
    "    \n",
    "out = ipw.interactive_output(f, {'q1': s1, 'q2': s2, 'q3': s3, 'q4': s4, 'q5': s5, 'q6': s6, 'q7': s7, 'q8': s8, 'q9': s9, 'q10': s10})\n",
    "\n",
    "display(ui, out)"
   ]
  },
  {
   "cell_type": "code",
   "execution_count": null,
   "metadata": {},
   "outputs": [],
   "source": []
  },
  {
   "cell_type": "code",
   "execution_count": null,
   "metadata": {},
   "outputs": [],
   "source": []
  }
 ],
 "metadata": {
  "kernelspec": {
   "display_name": "Python 3",
   "language": "python",
   "name": "python3"
  },
  "language_info": {
   "codemirror_mode": {
    "name": "ipython",
    "version": 3
   },
   "file_extension": ".py",
   "mimetype": "text/x-python",
   "name": "python",
   "nbconvert_exporter": "python",
   "pygments_lexer": "ipython3",
   "version": "3.6.9"
  }
 },
 "nbformat": 4,
 "nbformat_minor": 4
}
